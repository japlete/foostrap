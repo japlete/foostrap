{
 "cells": [
  {
   "cell_type": "markdown",
   "id": "f2674749-d4f1-4ef5-bf0c-728a4e7f4d9b",
   "metadata": {},
   "source": [
    "## Timings test\n",
    "### Scipy benchmark"
   ]
  },
  {
   "cell_type": "code",
   "execution_count": 1,
   "id": "31266b19-85db-45ca-9d55-860a37435186",
   "metadata": {
    "execution": {
     "iopub.execute_input": "2024-03-12T13:27:26.386371Z",
     "iopub.status.busy": "2024-03-12T13:27:26.386008Z",
     "iopub.status.idle": "2024-03-12T13:27:27.573977Z",
     "shell.execute_reply": "2024-03-12T13:27:27.573086Z",
     "shell.execute_reply.started": "2024-03-12T13:27:26.386339Z"
    }
   },
   "outputs": [],
   "source": [
    "import numpy as np\n",
    "from scipy.stats import bootstrap\n",
    "import matplotlib.pyplot as plt\n",
    "from foostrap import foostrap"
   ]
  },
  {
   "cell_type": "markdown",
   "id": "17793aa7-eb35-44e4-a5d8-c47bce897bc2",
   "metadata": {},
   "source": [
    "#### Generate data for the different statistics"
   ]
  },
  {
   "cell_type": "code",
   "execution_count": 2,
   "id": "4d7dcff5-2d88-441c-b17a-815191d78c4b",
   "metadata": {
    "execution": {
     "iopub.execute_input": "2024-03-12T13:27:27.574991Z",
     "iopub.status.busy": "2024-03-12T13:27:27.574668Z",
     "iopub.status.idle": "2024-03-12T13:27:27.584969Z",
     "shell.execute_reply": "2024-03-12T13:27:27.583606Z",
     "shell.execute_reply.started": "2024-03-12T13:27:27.574971Z"
    }
   },
   "outputs": [],
   "source": [
    "n1 = 1000 # Sample size 1\n",
    "n2 = 100 # Sample size 2\n",
    "prob_1 = 0.22 # Proportion of non-zeros on x1\n",
    "prob_2 = 0.2 # Proportion of non-zeros on x2\n",
    "sigma = 2.0 # Lognormal scale parameter\n",
    "n_boots = 100000 # Bootstrap samples\n",
    "\n",
    "rng = np.random.Generator(np.random.SFC64(0))\n",
    "nnz1 = int(prob_1 * n1)\n",
    "nnz2 = int(prob_2 * n2)\n",
    "nz1 = n1 - nnz1\n",
    "nz2 = n2 - nnz2\n",
    "\n",
    "# Sparse 1D arrays for mean statistic\n",
    "x = np.concatenate((np.zeros(nz1), rng.lognormal(sigma= sigma, size= nnz1) + 0.2))\n",
    "y = np.concatenate((np.zeros(nz2), rng.lognormal(sigma= sigma, size= nnz2)))\n",
    "\n",
    "# 2D arrays for ratio statistic\n",
    "z = np.concatenate((x.reshape(-1,1), rng.lognormal(sigma= sigma, size= (n1,1))), axis= 1)\n",
    "w = np.concatenate((y.reshape(-1,1), rng.lognormal(sigma= sigma, size= (n2,1))), axis= 1)\n",
    "\n",
    "# Binary 1D arrays for mean statistic\n",
    "xb = np.concatenate((np.zeros(nz1), np.ones(nnz1)))\n",
    "yb = np.concatenate((np.zeros(nz2), np.ones(nnz2)))"
   ]
  },
  {
   "cell_type": "markdown",
   "id": "221f4aab-4a18-4532-b48c-4fb69ac63f4e",
   "metadata": {},
   "source": [
    "#### Scipy mean statistic on sparse 1D arrays"
   ]
  },
  {
   "cell_type": "code",
   "execution_count": 3,
   "id": "21a4dced-d20c-4da8-a561-4adfb96f8dfb",
   "metadata": {
    "execution": {
     "iopub.execute_input": "2024-03-12T13:27:27.587290Z",
     "iopub.status.busy": "2024-03-12T13:27:27.586403Z",
     "iopub.status.idle": "2024-03-12T13:27:27.594216Z",
     "shell.execute_reply": "2024-03-12T13:27:27.593302Z",
     "shell.execute_reply.started": "2024-03-12T13:27:27.587263Z"
    }
   },
   "outputs": [],
   "source": [
    "def mean_dif(x, y, axis= -1):\n",
    "    return np.mean(x, axis= axis) - np.mean(y, axis= axis)"
   ]
  },
  {
   "cell_type": "code",
   "execution_count": 4,
   "id": "67fea16b-0c0d-42ea-9fc3-b885dbb55700",
   "metadata": {
    "execution": {
     "iopub.execute_input": "2024-03-12T13:27:27.595995Z",
     "iopub.status.busy": "2024-03-12T13:27:27.595506Z",
     "iopub.status.idle": "2024-03-12T13:27:37.406797Z",
     "shell.execute_reply": "2024-03-12T13:27:37.405595Z",
     "shell.execute_reply.started": "2024-03-12T13:27:27.595958Z"
    }
   },
   "outputs": [
    {
     "name": "stdout",
     "output_type": "stream",
     "text": [
      "1.11 s ± 87.6 ms per loop (mean ± std. dev. of 7 runs, 1 loop each)\n"
     ]
    }
   ],
   "source": [
    "%timeit bootstrap((x,y), mean_dif, vectorized= True, random_state= rng, method= 'BCa', batch= 1000, n_resamples= n_boots)\n",
    "res_sp = bootstrap((x,y), mean_dif, vectorized= True, random_state= rng, method= 'BCa', batch= 1000, n_resamples= n_boots)"
   ]
  },
  {
   "cell_type": "markdown",
   "id": "4e165c9d-709d-48c8-8669-97ec8848434c",
   "metadata": {},
   "source": [
    "#### Foostrap mean statistic, 3 timings:\n",
    "1. Default execution on sparse array\n",
    "2. Treating array as dense (slower)\n",
    "3. Forcing single core execution"
   ]
  },
  {
   "cell_type": "code",
   "execution_count": 5,
   "id": "5fc7c4b6-a87e-42f8-9d8c-19debbe3d1ff",
   "metadata": {
    "execution": {
     "iopub.execute_input": "2024-03-12T13:27:37.407987Z",
     "iopub.status.busy": "2024-03-12T13:27:37.407714Z",
     "iopub.status.idle": "2024-03-12T13:27:46.023871Z",
     "shell.execute_reply": "2024-03-12T13:27:46.022494Z",
     "shell.execute_reply.started": "2024-03-12T13:27:37.407968Z"
    }
   },
   "outputs": [
    {
     "name": "stdout",
     "output_type": "stream",
     "text": [
      "47.1 ms ± 13.8 ms per loop (mean ± std. dev. of 10 runs, 10 loops each)\n"
     ]
    }
   ],
   "source": [
    "# Example 1: Taking advantage of sparsity\n",
    "res_bs = foostrap(x, y, random_state= None, boot_samples= n_boots) #First execution is longer, due to Numba compilation\n",
    "%timeit -n 10 -r 10 foostrap(x, y, random_state= rng, boot_samples= n_boots)"
   ]
  },
  {
   "cell_type": "code",
   "execution_count": 6,
   "id": "aa33e245-6126-49cd-bb42-63eb173066f5",
   "metadata": {
    "execution": {
     "iopub.execute_input": "2024-03-12T13:27:46.028135Z",
     "iopub.status.busy": "2024-03-12T13:27:46.027493Z",
     "iopub.status.idle": "2024-03-12T13:27:54.086408Z",
     "shell.execute_reply": "2024-03-12T13:27:54.085196Z",
     "shell.execute_reply.started": "2024-03-12T13:27:46.028102Z"
    }
   },
   "outputs": [
    {
     "name": "stdout",
     "output_type": "stream",
     "text": [
      "92.6 ms ± 9.25 ms per loop (mean ± std. dev. of 10 runs, 5 loops each)\n"
     ]
    }
   ],
   "source": [
    "# Example 2: Treating the input as dense, still parallel\n",
    "foostrap(x, y, random_state= 0, boot_samples= 100, ignore_sparse_below= 1.0) # First run just to compile function (for dense input)\n",
    "%timeit -n 5 -r 10 foostrap(x, y, random_state= rng, boot_samples= n_boots, ignore_sparse_below= 1.0)"
   ]
  },
  {
   "cell_type": "code",
   "execution_count": 7,
   "id": "02971fa1-d513-46fb-b5c5-04101334f610",
   "metadata": {
    "execution": {
     "iopub.execute_input": "2024-03-12T13:27:54.087903Z",
     "iopub.status.busy": "2024-03-12T13:27:54.087591Z",
     "iopub.status.idle": "2024-03-12T13:28:05.982603Z",
     "shell.execute_reply": "2024-03-12T13:28:05.980883Z",
     "shell.execute_reply.started": "2024-03-12T13:27:54.087875Z"
    }
   },
   "outputs": [
    {
     "name": "stdout",
     "output_type": "stream",
     "text": [
      "396 ms ± 51.5 ms per loop (mean ± std. dev. of 10 runs, 3 loops each)\n"
     ]
    }
   ],
   "source": [
    "# Example 3: Treating the input as dense, and single core (closest to Scipy)\n",
    "%timeit -n 3 -r 10 foostrap(x, y, random_state= rng, boot_samples= n_boots, ignore_sparse_below= 1.0, parallel= False)"
   ]
  },
  {
   "cell_type": "markdown",
   "id": "67d5be6b-3220-49f7-8055-1b8f3186a8e6",
   "metadata": {},
   "source": [
    "#### Histogram of bootstrap samples (mean difference)"
   ]
  },
  {
   "cell_type": "code",
   "execution_count": 8,
   "id": "87bcfc4b-2de5-44b2-b0ed-4bea6703c742",
   "metadata": {
    "execution": {
     "iopub.execute_input": "2024-03-12T13:28:05.984226Z",
     "iopub.status.busy": "2024-03-12T13:28:05.983802Z",
     "iopub.status.idle": "2024-03-12T13:28:06.419978Z",
     "shell.execute_reply": "2024-03-12T13:28:06.418534Z",
     "shell.execute_reply.started": "2024-03-12T13:28:05.984194Z"
    }
   },
   "outputs": [
    {
     "name": "stdout",
     "output_type": "stream",
     "text": [
      "Scipy:  ConfidenceInterval(low=-4.9683288454388315, high=0.33468700768197784)\n",
      "Foostrap:  (-4.972453271924279, 0.35181827803762084)\n"
     ]
    },
    {
     "data": {
      "image/png": "[encoded data removed]",
      "text/plain": [
       "<Figure size 640x480 with 1 Axes>"
      ]
     },
     "metadata": {},
     "output_type": "display_data"
    }
   ],
   "source": [
    "print('Scipy: ', res_sp.confidence_interval)\n",
    "print('Foostrap: ', res_bs.ci)\n",
    "plt.hist(res_sp.bootstrap_distribution, bins= 50, color= (0,0,1,0.5))\n",
    "plt.hist(res_bs.boot_samples, bins= 50, color= (1,0,0,0.5))\n",
    "plt.axvline(x.mean() - y.mean(), color = (0,0,0,1))\n",
    "plt.legend(['Statistic','Scipy','Foostrap'])\n",
    "plt.axvline(res_sp.confidence_interval.low, color = (0,0,1,0.5))\n",
    "plt.axvline(res_sp.confidence_interval.high, color = (0,0,1,0.5))\n",
    "plt.axvline(res_bs.ci[0], color = (1,0,0,0.5))\n",
    "plt.axvline(res_bs.ci[1], color = (1,0,0,0.5))\n",
    "plt.show()"
   ]
  },
  {
   "cell_type": "markdown",
   "id": "eeb1d379-0eef-4b14-a81e-96d6e073fa65",
   "metadata": {},
   "source": [
    "#### Scipy ratio statistic on 2D arrays"
   ]
  },
  {
   "cell_type": "code",
   "execution_count": 9,
   "id": "bf2be075-1c2f-4bf5-a24e-dbfccca8cb84",
   "metadata": {
    "execution": {
     "iopub.execute_input": "2024-03-12T13:28:06.421906Z",
     "iopub.status.busy": "2024-03-12T13:28:06.421389Z",
     "iopub.status.idle": "2024-03-12T13:28:28.097368Z",
     "shell.execute_reply": "2024-03-12T13:28:28.096313Z",
     "shell.execute_reply.started": "2024-03-12T13:28:06.421869Z"
    }
   },
   "outputs": [
    {
     "name": "stdout",
     "output_type": "stream",
     "text": [
      "2.38 s ± 71.2 ms per loop (mean ± std. dev. of 7 runs, 1 loop each)\n"
     ]
    }
   ],
   "source": [
    "def ratio_dif(x, y, axis= -1):\n",
    "    return x[0].sum(axis= axis) / x[1].sum(axis= axis) - y[0].sum(axis= axis) / y[1].sum(axis= axis)\n",
    "%timeit bootstrap((z,w), ratio_dif, vectorized= True, random_state= rng, method= 'BCa', batch= 1000, n_resamples= n_boots)\n",
    "res_spr = bootstrap((z,w), ratio_dif, vectorized= True, random_state= rng, method= 'BCa', batch= 1000, n_resamples= n_boots)"
   ]
  },
  {
   "cell_type": "markdown",
   "id": "62068c0a-4015-45c0-bd8e-bad5b759f34e",
   "metadata": {},
   "source": [
    "#### Foostrap ratio statistic"
   ]
  },
  {
   "cell_type": "code",
   "execution_count": 10,
   "id": "2ef431d5-1356-4b3f-a9c7-7278b2b732bc",
   "metadata": {
    "execution": {
     "iopub.execute_input": "2024-03-12T13:28:28.098487Z",
     "iopub.status.busy": "2024-03-12T13:28:28.098187Z",
     "iopub.status.idle": "2024-03-12T13:28:39.446684Z",
     "shell.execute_reply": "2024-03-12T13:28:39.445453Z",
     "shell.execute_reply.started": "2024-03-12T13:28:28.098468Z"
    }
   },
   "outputs": [
    {
     "name": "stdout",
     "output_type": "stream",
     "text": [
      "234 ms ± 56.9 ms per loop (mean ± std. dev. of 10 runs, 3 loops each)\n"
     ]
    }
   ],
   "source": [
    "#Example 4: ratio metric (takes x2 time vs dense multicore case)\n",
    "res_bsr = foostrap(z, w, random_state= np.random.SeedSequence(0), boot_samples= n_boots)\n",
    "%timeit -n 3 -r 10 foostrap(z, w, random_state= rng, boot_samples= n_boots)"
   ]
  },
  {
   "cell_type": "markdown",
   "id": "bfbe9b70-0a40-4f97-ab1e-259f219b2b9d",
   "metadata": {},
   "source": [
    "#### Histogram of bootstrap samples (ratio difference)"
   ]
  },
  {
   "cell_type": "code",
   "execution_count": 11,
   "id": "4ab59afb-ad4b-404d-b1ce-a804e8c1fa85",
   "metadata": {
    "execution": {
     "iopub.execute_input": "2024-03-12T13:28:39.448272Z",
     "iopub.status.busy": "2024-03-12T13:28:39.447935Z",
     "iopub.status.idle": "2024-03-12T13:28:39.854679Z",
     "shell.execute_reply": "2024-03-12T13:28:39.853509Z",
     "shell.execute_reply.started": "2024-03-12T13:28:39.448244Z"
    }
   },
   "outputs": [
    {
     "name": "stdout",
     "output_type": "stream",
     "text": [
      "Scipy:  ConfidenceInterval(low=-0.5330076611384754, high=0.1300041136674153)\n",
      "Foostrap:  (-0.5234166034446556, 0.13003974587504213)\n"
     ]
    },
    {
     "data": {
      "image/png": "[encoded data removed]",
      "text/plain": [
       "<Figure size 640x480 with 1 Axes>"
      ]
     },
     "metadata": {},
     "output_type": "display_data"
    }
   ],
   "source": [
    "print('Scipy: ', res_spr.confidence_interval)\n",
    "print('Foostrap: ', res_bsr.ci)\n",
    "plt.hist(res_spr.bootstrap_distribution, bins= 50, color= (0,0,1,0.5))\n",
    "plt.hist(res_bsr.boot_samples, bins= 50, color= (1,0,0,0.5))\n",
    "plt.axvline(z.sum(axis= 0)[0]/z.sum(axis= 0)[1] - w.sum(axis= 0)[0]/w.sum(axis= 0)[1], color = (0,0,0,1))\n",
    "plt.legend(['Statistic','Scipy','Foostrap'])\n",
    "plt.axvline(res_spr.confidence_interval.low, color = (0,0,1,0.5))\n",
    "plt.axvline(res_spr.confidence_interval.high, color = (0,0,1,0.5))\n",
    "plt.axvline(res_bsr.ci[0], color = (1,0,0,0.5))\n",
    "plt.axvline(res_bsr.ci[1], color = (1,0,0,0.5))\n",
    "plt.show()"
   ]
  },
  {
   "cell_type": "markdown",
   "id": "f7636928-ef66-4311-879b-9789fe2b1f83",
   "metadata": {},
   "source": [
    "#### Scipy mean statistic on binary data"
   ]
  },
  {
   "cell_type": "code",
   "execution_count": 12,
   "id": "7d07441d-f22c-4f33-873f-65a235eb017e",
   "metadata": {
    "execution": {
     "iopub.execute_input": "2024-03-12T13:28:39.855975Z",
     "iopub.status.busy": "2024-03-12T13:28:39.855711Z",
     "iopub.status.idle": "2024-03-12T13:28:46.922596Z",
     "shell.execute_reply": "2024-03-12T13:28:46.921711Z",
     "shell.execute_reply.started": "2024-03-12T13:28:39.855941Z"
    }
   },
   "outputs": [
    {
     "name": "stdout",
     "output_type": "stream",
     "text": [
      "779 ms ± 46 ms per loop (mean ± std. dev. of 7 runs, 1 loop each)\n"
     ]
    }
   ],
   "source": [
    "# Scipy (should take around the same time as the first case)\n",
    "%timeit bootstrap((xb,yb), mean_dif, vectorized= True, random_state= rng, method= 'BCa', batch= 1000, n_resamples= n_boots)\n",
    "res_spb = bootstrap((xb,yb), mean_dif, vectorized= True, random_state= rng, method= 'BCa', batch= 1000, n_resamples= n_boots)"
   ]
  },
  {
   "cell_type": "markdown",
   "id": "24e23821-346a-4a6e-9a65-84ca26358788",
   "metadata": {},
   "source": [
    "#### Foostrap mean statistic on binary data"
   ]
  },
  {
   "cell_type": "code",
   "execution_count": 13,
   "id": "bd714e70-18bc-4ea3-b621-bfa0a7a525b7",
   "metadata": {
    "execution": {
     "iopub.execute_input": "2024-03-12T13:28:46.923622Z",
     "iopub.status.busy": "2024-03-12T13:28:46.923403Z",
     "iopub.status.idle": "2024-03-12T13:28:48.878594Z",
     "shell.execute_reply": "2024-03-12T13:28:48.877559Z",
     "shell.execute_reply.started": "2024-03-12T13:28:46.923599Z"
    }
   },
   "outputs": [
    {
     "name": "stdout",
     "output_type": "stream",
     "text": [
      "19.3 ms ± 896 µs per loop (mean ± std. dev. of 10 runs, 10 loops each)\n"
     ]
    }
   ],
   "source": [
    "# Example 5: binary metric (very fast because it only generates n_boots binomials)\n",
    "res_bsb = foostrap(xb, yb, random_state= 0, boot_samples= n_boots)\n",
    "%timeit -n 10 -r 10 foostrap(xb, yb, random_state= rng, boot_samples= n_boots)"
   ]
  },
  {
   "cell_type": "markdown",
   "id": "72bbf0ca-abbb-4f00-af9f-e9fdf09da3ce",
   "metadata": {},
   "source": [
    "#### Histogram of bootstrap samples (mean difference on binary data)"
   ]
  },
  {
   "cell_type": "code",
   "execution_count": 14,
   "id": "5434aa0f-b1b0-40d6-bdee-54abb3d52879",
   "metadata": {
    "execution": {
     "iopub.execute_input": "2024-03-12T13:28:48.879816Z",
     "iopub.status.busy": "2024-03-12T13:28:48.879419Z",
     "iopub.status.idle": "2024-03-12T13:28:49.160446Z",
     "shell.execute_reply": "2024-03-12T13:28:49.159555Z",
     "shell.execute_reply.started": "2024-03-12T13:28:48.879775Z"
    }
   },
   "outputs": [
    {
     "name": "stdout",
     "output_type": "stream",
     "text": [
      "Scipy:  ConfidenceInterval(low=-0.07199999999999998, high=0.094)\n",
      "Foostrap:  (-0.07100000000000001, 0.095)\n"
     ]
    },
    {
     "data": {
      "image/png": "[encoded data removed]",
      "text/plain": [
       "<Figure size 640x480 with 1 Axes>"
      ]
     },
     "metadata": {},
     "output_type": "display_data"
    }
   ],
   "source": [
    "print('Scipy: ', res_spb.confidence_interval)\n",
    "print('Foostrap: ', res_bsb.ci)\n",
    "plt.hist(res_spb.bootstrap_distribution, bins= 50, color= (0,0,1,0.5), density= True)\n",
    "plt.hist(res_bsb.boot_samples, bins= 50, color= (1,0,0,0.5), density= True)\n",
    "plt.axvline(xb.mean() - yb.mean(), color = (0,0,0,1))\n",
    "plt.legend(['Statistic','Scipy','Foostrap'])\n",
    "plt.axvline(res_spb.confidence_interval.low, color = (0,0,1,0.5))\n",
    "plt.axvline(res_spb.confidence_interval.high, color = (0,0,1,0.5))\n",
    "plt.axvline(res_bsb.ci[0], color = (1,0,0,0.5))\n",
    "plt.axvline(res_bsb.ci[1], color = (1,0,0,0.5))\n",
    "plt.show()"
   ]
  }
 ],
 "metadata": {
  "kernelspec": {
   "display_name": "Python 3 (ipykernel)",
   "language": "python",
   "name": "python3"
  },
  "language_info": {
   "codemirror_mode": {
    "name": "ipython",
    "version": 3
   },
   "file_extension": ".py",
   "mimetype": "text/x-python",
   "name": "python",
   "nbconvert_exporter": "python",
   "pygments_lexer": "ipython3",
   "version": "3.11.0rc1"
  }
 },
 "nbformat": 4,
 "nbformat_minor": 5
}
